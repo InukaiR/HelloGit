{
 "cells": [
  {
   "cell_type": "markdown",
   "metadata": {
    "colab_type": "text",
    "id": "LElo97qeRr4m"
   },
   "source": [
    "# DOC, L2-SoftmaxLoss, ArcFaceの比較\n",
    "\n",
    "# qiita: https://qiita.com/shinmura0/items/06d81c72601c7578c6d3"
   ]
  },
  {
   "cell_type": "markdown",
   "metadata": {
    "colab_type": "text",
    "id": "nM8AuzWISNMF"
   },
   "source": [
    "#data load"
   ]
  },
  {
   "cell_type": "code",
   "execution_count": 1,
   "metadata": {
    "colab": {
     "base_uri": "https://localhost:8080/",
     "height": 34
    },
    "colab_type": "code",
    "executionInfo": {
     "elapsed": 3600,
     "status": "ok",
     "timestamp": 1567332152222,
     "user": {
      "displayName": "Shinichiro Futakuchi",
      "photoUrl": "",
      "userId": "16790243129379089608"
     },
     "user_tz": -540
    },
    "id": "vHDvvPChnBRC",
    "outputId": "71e1f483-9852-461a-85b7-9a50c85f4d21"
   },
   "outputs": [
    {
     "name": "stderr",
     "output_type": "stream",
     "text": [
      "Using TensorFlow backend.\n"
     ]
    }
   ],
   "source": [
    "from keras.datasets import fashion_mnist, cifar10\n",
    "import numpy as np\n",
    "import matplotlib.pyplot as plt\n",
    "from keras.utils import to_categorical\n",
    "import cv2\n",
    "import keras\n",
    "\n",
    "class data:\n",
    "    def __init__(self, data_size):\n",
    "        self.data_size = data_size\n",
    "\n",
    "    def resize(self, x, to_color=True):\n",
    "        result = []\n",
    "\n",
    "        for i in range(len(x)):\n",
    "            if to_color:\n",
    "                img = cv2.cvtColor(x[i], cv2.COLOR_GRAY2RGB)\n",
    "                img = cv2.resize(img,dsize=(96,96))\n",
    "            else:\n",
    "                img = cv2.resize(x[i],dsize=(96,96))\n",
    "            result.append(img)\n",
    "\n",
    "        return np.array(result)\n",
    "\n",
    "    def choose_data(self, x, y, normal_id, anomaly_id):\n",
    "        x_normal, x_anomaly = [], []\n",
    "        x_ref, y_ref = [], []\n",
    "\n",
    "        for i in range(len(x)):\n",
    "            if y[i] == normal_id:# スニーカーは7#鹿は4\n",
    "                x_normal.append(x[i].reshape((x.shape[1:])))\n",
    "            elif y[i] == anomaly_id:# ブーツは9#馬は7\n",
    "                x_anomaly.append(x[i].reshape(x.shape[1:]))\n",
    "            else:\n",
    "                x_ref.append(x[i].reshape((x.shape[1:])))\n",
    "                y_ref.append(y[i])\n",
    "\n",
    "        return np.array(x_normal), np.array(x_anomaly), np.array(x_ref), y_ref\n",
    "\n",
    "    def random_choose(self, x, y, size):\n",
    "        number = np.random.choice(np.arange(0, len(x)), size, replace=False)\n",
    "        return_x, return_y = [], []\n",
    "\n",
    "        if len(y) > 0:\n",
    "            for i in number:\n",
    "                return_x.append(x[i].reshape((x.shape[1:])))\n",
    "                return_y.append(y[i])\n",
    "            return np.array(return_x), return_y\n",
    "        else:\n",
    "            for i in number:\n",
    "                return_x.append(x[i].reshape((x.shape[1:])))\n",
    "            return np.array(return_x)\n",
    "\n",
    "    def get_fashion_data(self):\n",
    "        # dataset\n",
    "        (x_train, y_train), (x_test, y_test) = fashion_mnist.load_data()\n",
    "\n",
    "        x_train = x_train.reshape(x_train.shape[0], 28, 28, 1)\n",
    "        x_test = x_test.reshape(x_test.shape[0], 28, 28, 1)\n",
    "\n",
    "        x_train = x_train.astype('float32') / 255\n",
    "        x_test = x_test.astype('float32') / 255\n",
    "\n",
    "        x_train_normal, _, x_ref, y_ref = self.choose_data(x_train, y_train, 7, 9)\n",
    "\n",
    "        #train_normalデータからランダムに抽出\n",
    "        x_train_normal = self.random_choose(x = x_train_normal, y=[], size = int(self.data_size/8))\n",
    "\n",
    "        #refデータからランダムに抽出\n",
    "        x_ref, y_ref = self.random_choose(x = x_ref, y = y_ref, size = self.data_size)\n",
    "        y_ref = to_categorical(y_ref)\n",
    "\n",
    "        # テストデータ\n",
    "        x_test_normal, x_test_anomaly, _, _ = self.choose_data(x_test, y_test, 7, 9)\n",
    "\n",
    "        x_train_normal = self.resize(x_train_normal)\n",
    "        x_ref = self.resize(x_ref)\n",
    "        x_test_normal = self.resize(x_test_normal)\n",
    "        x_test_anomaly = self.resize(x_test_anomaly)\n",
    "\n",
    "        #print(x_train_normal.shape)\n",
    "        #print(x_ref.shape)\n",
    "        #print(y_ref.shape)\n",
    "        #print(x_test_normal.shape)\n",
    "        #print(x_test_anomaly.shape)\n",
    "\n",
    "        return x_train_normal, x_ref, y_ref, x_test_normal, x_test_anomaly\n",
    "\n",
    "    def get_cifar_data(self):\n",
    "        # dataset\n",
    "        (x_train, y_train), (x_test, y_test) = cifar10.load_data()\n",
    "\n",
    "        x_train = x_train.astype('float32') / 255\n",
    "        x_test = x_test.astype('float32') / 255\n",
    "        \n",
    "        x_train_normal, _, x_ref, y_ref = self.choose_data(x_train, y_train, 4, 7)\n",
    "\n",
    "        #train_normalデータからランダムに抽出\n",
    "        x_train_normal = self.random_choose(x = x_train_normal, y=[], size = int(self.data_size/8))\n",
    "\n",
    "        #refデータからランダムに抽出\n",
    "        x_ref, y_ref = self.random_choose(x = x_ref, y = y_ref, size = self.data_size)\n",
    "        y_ref = to_categorical(y_ref)\n",
    "\n",
    "        # テストデータ\n",
    "        x_test_normal, x_test_anomaly, _, _ = self.choose_data(x_test, y_test, 4, 7)\n",
    "\n",
    "        x_train_normal = self.resize(x_train_normal, False)\n",
    "        x_ref = self.resize(x_ref, False)\n",
    "        x_test_normal = self.resize(x_test_normal, False)\n",
    "        x_test_anomaly = self.resize(x_test_anomaly, False)\n",
    "\n",
    "        #print(x_train_normal.shape)\n",
    "        #print(x_ref.shape)\n",
    "        #print(y_ref.shape)\n",
    "        #print(x_test_normal.shape)\n",
    "        #print(x_test_anomaly.shape)\n",
    "\n",
    "        return x_train_normal, x_ref, y_ref, x_test_normal, x_test_anomaly"
   ]
  },
  {
   "cell_type": "code",
   "execution_count": 2,
   "metadata": {
    "colab": {},
    "colab_type": "code",
    "id": "m5bP_KCkjh0w"
   },
   "outputs": [],
   "source": [
    "def get_auc(Z1, Z2):\n",
    "    y_true = np.zeros(len(Z1)+len(Z2))\n",
    "    y_true[len(Z1):] = 1#0:正常、1：異常\n",
    "\n",
    "    # FPR, TPR(, しきい値) を算出\n",
    "    fpr, tpr, _ = metrics.roc_curve(y_true, np.hstack((Z1, Z2)))\n",
    "\n",
    "    # AUC\n",
    "    auc = metrics.auc(fpr, tpr)\n",
    "\n",
    "    return fpr, tpr, auc\n",
    "\n",
    "def auc(Z1_arc, Z2_arc, Z1_doc, Z2_doc, Z1_L2, Z2_L2):\n",
    "    fpr_arc, tpr_arc, auc_arc = get_auc(Z1_arc, Z2_arc)\n",
    "    fpr_doc, tpr_doc, auc_doc = get_auc(Z1_doc, Z2_doc)\n",
    "    fpr_L2, tpr_L2, auc_L2 = get_auc(Z1_L2, Z2_L2)\n",
    "    \n",
    "    # ROC曲線をプロット\n",
    "    plt.plot(fpr_L2, tpr_L2, label='L2-SoftmaxLoss(AUC = %.2f)'%auc_L2)\n",
    "    plt.plot(fpr_arc, tpr_arc, label='ArcFace(AUC = %.2f)'%auc_arc)\n",
    "    plt.plot(fpr_doc, tpr_doc, label='DOC(AUC = %.2f)'%auc_doc)\n",
    "    plt.legend()\n",
    "    plt.title('ROC curve')\n",
    "    plt.xlabel('False Positive Rate')\n",
    "    plt.ylabel('True Positive Rate')\n",
    "    plt.grid(True)\n",
    "    plt.show()"
   ]
  },
  {
   "cell_type": "markdown",
   "metadata": {
    "colab_type": "text",
    "id": "qe0lpAYgWlX_"
   },
   "source": [
    "#ArcFace"
   ]
  },
  {
   "cell_type": "code",
   "execution_count": 3,
   "metadata": {
    "colab": {},
    "colab_type": "code",
    "id": "hn79fB5NWnYq"
   },
   "outputs": [],
   "source": [
    "from keras import backend as K\n",
    "from keras.engine.topology import Layer\n",
    "import tensorflow as tf\n",
    "from keras.applications import MobileNetV2\n",
    "from keras.layers import Input, GlobalAveragePooling2D, Activation\n",
    "from keras.models import Model\n",
    "from keras.optimizers import Adam\n",
    "from sklearn import metrics\n",
    "\n",
    "#arcfaceの層\n",
    "class Arcfacelayer(Layer):\n",
    "    # s:softmaxの温度パラメータ, m:margin\n",
    "    def __init__(self, output_dim, s=30, m=0.50, easy_margin=False):\n",
    "        self.output_dim = output_dim\n",
    "        self.s = s\n",
    "        self.m = m\n",
    "        self.easy_margin = easy_margin\n",
    "        super(Arcfacelayer, self).__init__()\n",
    "\n",
    "    # 重みの作成\n",
    "    def build(self, input_shape):\n",
    "        # Create a trainable weight variable for this layer.\n",
    "        self.kernel = self.add_weight(name='kernel',\n",
    "                                      shape=(input_shape[0][1], self.output_dim),\n",
    "                                      initializer='uniform',\n",
    "                                      trainable=True)\n",
    "        super(Arcfacelayer, self).build(input_shape)\n",
    "\n",
    "\n",
    "    # mainの処理 \n",
    "    def call(self, x):\n",
    "        y = x[1]\n",
    "        x_normalize = tf.math.l2_normalize(x[0]) # x = x'/ ||x'||2\n",
    "        k_normalize = tf.math.l2_normalize(self.kernel) # Wj = Wj' / ||Wj'||2\n",
    "\n",
    "        cos_m = K.cos(self.m)\n",
    "        sin_m = K.sin(self.m)\n",
    "        th = K.cos(np.pi - self.m)\n",
    "        mm = K.sin(np.pi - self.m) * self.m\n",
    "\n",
    "        cosine = K.dot(x_normalize, k_normalize) # W.Txの内積\n",
    "        sine = K.sqrt(1.0 - K.square(cosine))\n",
    "\n",
    "        phi = cosine * cos_m - sine * sin_m #cos(θ+m)の加法定理\n",
    "\n",
    "        if self.easy_margin:\n",
    "            phi = tf.where(cosine > 0, phi, cosine) \n",
    "\n",
    "        else:\n",
    "            phi = tf.where(cosine > th, phi, cosine - mm) \n",
    "\n",
    "        # 正解クラス:cos(θ+m) 他のクラス:cosθ \n",
    "        output = (y * phi) + ((1.0 - y) * cosine) \n",
    "        output *= self.s\n",
    "\n",
    "        return output\n",
    "\n",
    "    def compute_output_shape(self, input_shape):\n",
    "\n",
    "        return (input_shape[0][0], self.output_dim) #入力[x,y]のためx[0]はinput_shape[0][0]\n",
    "\n",
    "# arcfaceとmobilenetV2を接合して学習\n",
    "def train_arcface(x, y, classes):\n",
    "    print(\"ArcFace training...\")\n",
    "    base_model=MobileNetV2(input_shape=x.shape[1:],alpha=0.5,\n",
    "                           weights='imagenet',\n",
    "                           include_top=False)\n",
    "\n",
    "\n",
    "    #add new layers \n",
    "    c = base_model.output\n",
    "    yinput = Input(shape=(classes,)) #ArcFaceで使用\n",
    "    # stock hidden model\n",
    "    hidden = GlobalAveragePooling2D()(c) \n",
    "    c = Arcfacelayer(classes, 30, 0.05)([hidden,yinput]) #outputをクラス数と同じ数に\n",
    "    prediction = Activation('softmax')(c)\n",
    "    model = Model(inputs=[base_model.input, yinput], outputs=prediction)\n",
    "\n",
    "    model.compile(loss='categorical_crossentropy',\n",
    "                  optimizer=Adam(lr=0.0001, amsgrad=True),\n",
    "                  metrics=['accuracy'])\n",
    "\n",
    "    #学習\n",
    "    hist = model.fit([x, y], y, batch_size=128, epochs=10, verbose = False)\n",
    "\n",
    "    #plt.figure()               \n",
    "    #plt.plot(hist.history['acc'],label=\"train_acc\")\n",
    "    #plt.legend(loc=\"lower right\")\n",
    "    #plt.show()\n",
    "\n",
    "    return model\n",
    "\n",
    "def get_score_arc(model, train, test):\n",
    "    \"\"\"\n",
    "    テスト用\n",
    "    model: 特徴抽出用モデル(predict)\n",
    "    \"\"\"\n",
    "    model = Model(model.get_layer(index=0).input, model.get_layer(index=-4).output) # Arcfaceを削除\n",
    "    \n",
    "    # 正常vectorの呼び出し\n",
    "    hold_vector = model.predict(train)# shape(len(train), 1280)\n",
    "\n",
    "    # test_vectorの呼び出し\n",
    "    predict_vector = model.predict(test)# shape(len(test), 1280)\n",
    "\n",
    "    score = []\n",
    "\n",
    "    for i in range(len(predict_vector)):\n",
    "        cos_similarity = cosine_similarity(predict_vector[i], hold_vector) # shape(len(test), len(train))\n",
    "        score.append(np.max(cos_similarity))\n",
    "\n",
    "    return np.array(score)\n",
    "\n",
    "# コサイン類似度の計算\n",
    "def cosine_similarity(x1, x2): \n",
    "    if x1.ndim == 1:\n",
    "        x1 = x1[np.newaxis]\n",
    "    if x2.ndim == 1:\n",
    "        x2 = x2[np.newaxis]\n",
    "    x1_norm = np.linalg.norm(x1, axis=1)\n",
    "    x2_norm = np.linalg.norm(x2, axis=1)\n",
    "    cosine_sim = np.dot(x1, x2.T)/(x1_norm*x2_norm+1e-10)\n",
    "    return cosine_sim"
   ]
  },
  {
   "cell_type": "markdown",
   "metadata": {
    "colab_type": "text",
    "id": "LCtjqzw7IDPj"
   },
   "source": [
    "#DOC"
   ]
  },
  {
   "cell_type": "code",
   "execution_count": 4,
   "metadata": {
    "colab": {},
    "colab_type": "code",
    "id": "EYi-JqhDIFKA"
   },
   "outputs": [],
   "source": [
    "from keras.applications import MobileNetV2, VGG16\n",
    "from keras.optimizers import Adam, SGD\n",
    "from keras.models import Model\n",
    "from keras.layers import GlobalAveragePooling2D, Dense\n",
    "from keras import backend as K\n",
    "from keras.engine.network import Network\n",
    "from sklearn.neighbors import LocalOutlierFactor\n",
    "from sklearn.preprocessing import MinMaxScaler\n",
    "\n",
    "#Mean = np.zeros((batchsize,feature_out)) #仮に定義\n",
    "\n",
    "  \n",
    "#学習\n",
    "def train_doc(x_target, x_ref, y_ref, epoch_num, classes):\n",
    "    print(\"DOC training...\")\n",
    "    batchsize = 128\n",
    "    feature_out = 1280 #secondary network out for MobileNet\n",
    "    alpha = 0.5 #for MobileNet\n",
    "    lambda_ = 0.1 #for compact loss\n",
    "\n",
    "    #global Mean\n",
    "    \n",
    "    # mobile net読み込み, S network用\n",
    "    mobile = MobileNetV2(include_top=True, input_shape=x_target.shape[1:], alpha=alpha,\n",
    "                         weights='imagenet')\n",
    "    \n",
    "    #最終層削除\n",
    "    mobile.layers.pop()\n",
    "    \n",
    "    # 重みを固定\n",
    "    for layer in mobile.layers:\n",
    "        if layer.name == \"block_13_expand\": # \"block5_conv1\": for VGG16\n",
    "            break\n",
    "        else:\n",
    "            layer.trainable = False\n",
    "            \n",
    "    model_t = Model(inputs=mobile.input,outputs=mobile.layers[-1].output)\n",
    "            \n",
    "    # R network用　Sと重み共有\n",
    "    model_r = Network(inputs=model_t.input,\n",
    "                      outputs=model_t.output,\n",
    "                      name=\"shared_layer\")\n",
    "    \n",
    "    #Rに全結合層を付ける\n",
    "    prediction = Dense(classes, activation='softmax')(model_t.output)\n",
    "    model_r = Model(inputs=model_r.input,outputs=prediction)\n",
    "\n",
    "    #損失関数\n",
    "    def original_loss(y_true, y_pred):\n",
    "        batchsize = 128\n",
    "        lc = 1/(classes*batchsize) * batchsize**2 * K.sum((y_pred -K.mean(y_pred,axis=0))**2,axis=[1]) / ((batchsize-1)**2)\n",
    "        return lc\n",
    "\n",
    "    #コンパイル\n",
    "    optimizer = SGD(lr=5e-5, decay=0.00005)\n",
    "    model_r.compile(optimizer=optimizer, loss=\"categorical_crossentropy\")\n",
    "    model_t.compile(optimizer=optimizer, loss=original_loss)\n",
    "    \n",
    "    #model_t.summary()\n",
    "    #odel_r.summary()\n",
    "    \n",
    "    #print(\"x_target is\",x_target.shape[0],'samples')\n",
    "    #print(\"x_ref is\",x_ref.shape[0],'samples')\n",
    "    \n",
    "    ref_samples = np.arange(x_ref.shape[0])\n",
    "    loss, loss_c = [], []\n",
    "    \n",
    "    for epochnumber in range(epoch_num):\n",
    "        x_r, y_r, lc, ld = [], [], [], []\n",
    "        \n",
    "        #データシャッフル\n",
    "        np.random.shuffle(x_target)\n",
    "        \n",
    "        np.random.shuffle(ref_samples)\n",
    "        for i in range(len(x_target)):\n",
    "            x_r.append(x_ref[ref_samples[i]])\n",
    "            y_r.append(y_ref[ref_samples[i]])\n",
    "        x_r = np.array(x_r)\n",
    "        y_r = np.array(y_r)\n",
    "    \n",
    "        for i in range(int(len(x_target) / batchsize)):\n",
    "            \n",
    "            #batchsize分のデータロード\n",
    "            batch_target = x_target[i*batchsize:i*batchsize+batchsize]\n",
    "            batch_ref = x_r[i*batchsize:i*batchsize+batchsize]\n",
    "            batch_y = y_r[i*batchsize:i*batchsize+batchsize]\n",
    "\n",
    "            #target data\n",
    "            #学習しながら、損失を取得\n",
    "            lc.append(model_t.train_on_batch(batch_target, np.zeros((batchsize, feature_out))))\n",
    "            \n",
    "\t\t\t\t    #reference data\n",
    "            #学習しながら、損失を取得\n",
    "            ld.append(model_r.train_on_batch(batch_ref, batch_y))\n",
    "            \n",
    "        loss.append(np.mean(ld))\n",
    "        loss_c.append(np.mean(lc))\n",
    "                \n",
    "    #結果グラフ\n",
    "    #plt.plot(loss,label=\"Descriptive loss\")\n",
    "    #plt.xlabel(\"epoch\")\n",
    "    #plt.legend()\n",
    "    #plt.show()\n",
    "    \n",
    "    #plt.plot(loss_c,label=\"Compact loss\")\n",
    "    #plt.xlabel(\"epoch\")\n",
    "    #plt.legend()\n",
    "    #plt.show()    \n",
    "\n",
    "    return model_t\n",
    "\n",
    "def get_score_doc(model, x_train_normal, x_test_normal, x_test_anomaly):\n",
    "    train = model.predict(x_train_normal)\n",
    "    test_s = model.predict(x_test_normal)\n",
    "    test_b = model.predict(x_test_anomaly)\n",
    "\n",
    "    train = train.reshape((len(train),-1))\n",
    "    test_s = test_s.reshape((len(test_s),-1))\n",
    "    test_b = test_b.reshape((len(test_b),-1))\n",
    "\n",
    "    ms = MinMaxScaler()\n",
    "    train = ms.fit_transform(train)\n",
    "    test_s = ms.transform(test_s)\n",
    "    test_b = ms.transform(test_b)\n",
    "\n",
    "    # fit the model\n",
    "    clf = LocalOutlierFactor(n_neighbors=5)\n",
    "    y_pred = clf.fit(train[:1000])\n",
    "\n",
    "    # plot the level sets of the decision function\n",
    "    Z1 = -clf._decision_function(test_s)\n",
    "    Z2 = -clf._decision_function(test_b)\n",
    "\n",
    "    return Z1, Z2"
   ]
  },
  {
   "cell_type": "markdown",
   "metadata": {
    "colab_type": "text",
    "id": "Rp2Qy8HiaHA7"
   },
   "source": [
    "#L2-SoftmaxLoss"
   ]
  },
  {
   "cell_type": "code",
   "execution_count": 5,
   "metadata": {
    "colab": {},
    "colab_type": "code",
    "id": "Gjuc0Q3kaJmI"
   },
   "outputs": [],
   "source": [
    "def train_L2(x, y, classes):\n",
    "    print(\"L2-SoftmaxLoss training...\")\n",
    "    mobile = MobileNetV2(include_top=True, input_shape=x.shape[1:], alpha=0.5,\n",
    "                         weights='imagenet')\n",
    "    \n",
    "    # 最終層削除\n",
    "    mobile.layers.pop()\n",
    "    model = Model(inputs=mobile.input,outputs=mobile.layers[-1].output)\n",
    "            \n",
    "    # L2層と全結合層を付ける\n",
    "    c = keras.layers.Lambda(lambda xx: 5*(xx)/K.sqrt(K.sum(xx**2)))(model.output) #metric learning\n",
    "    c = Dense(classes, activation='softmax')(c)\n",
    "    model = Model(inputs=model.input,outputs=c)\n",
    "\n",
    "    #model.summary()\n",
    "\n",
    "    model.compile(loss='categorical_crossentropy',\n",
    "                  optimizer=Adam(lr=0.0001, amsgrad=True),\n",
    "                  metrics=['accuracy'])\n",
    "\n",
    "    #学習\n",
    "    hist = model.fit(x, y, batch_size=128, epochs=10, verbose = False)\n",
    "\n",
    "    #plt.figure()               \n",
    "    #plt.plot(hist.history['acc'],label=\"train_acc\")\n",
    "    #plt.legend(loc=\"lower right\")\n",
    "    #plt.show()\n",
    "\n",
    "    return model"
   ]
  },
  {
   "cell_type": "markdown",
   "metadata": {
    "colab_type": "text",
    "id": "JNykUdWO0K1L"
   },
   "source": [
    "#Evaluate(fashion-MNIST)"
   ]
  },
  {
   "cell_type": "code",
   "execution_count": 6,
   "metadata": {
    "colab": {
     "base_uri": "https://localhost:8080/",
     "height": 1000
    },
    "colab_type": "code",
    "executionInfo": {
     "elapsed": 6500415,
     "status": "ok",
     "timestamp": 1565055016973,
     "user": {
      "displayName": "Rubu Kuma",
      "photoUrl": "",
      "userId": "02985854947085672136"
     },
     "user_tz": -540
    },
    "id": "pR6DKHRzdyn2",
    "outputId": "6f04ac50-58bc-44f2-9853-79100ad9a318"
   },
   "outputs": [
    {
     "name": "stdout",
     "output_type": "stream",
     "text": [
      "1 /10\n"
     ]
    },
    {
     "name": "stderr",
     "output_type": "stream",
     "text": [
      "WARNING: Logging before flag parsing goes to stderr.\n",
      "W0901 20:23:21.029571 18152 deprecation_wrapper.py:119] From C:\\Users\\futak\\Anaconda3\\lib\\site-packages\\keras\\backend\\tensorflow_backend.py:66: The name tf.get_default_graph is deprecated. Please use tf.compat.v1.get_default_graph instead.\n",
      "\n",
      "W0901 20:23:21.077308 18152 deprecation_wrapper.py:119] From C:\\Users\\futak\\Anaconda3\\lib\\site-packages\\keras\\backend\\tensorflow_backend.py:541: The name tf.placeholder is deprecated. Please use tf.compat.v1.placeholder instead.\n",
      "\n",
      "W0901 20:23:21.098296 18152 deprecation_wrapper.py:119] From C:\\Users\\futak\\Anaconda3\\lib\\site-packages\\keras\\backend\\tensorflow_backend.py:4432: The name tf.random_uniform is deprecated. Please use tf.random.uniform instead.\n",
      "\n",
      "W0901 20:23:21.125279 18152 deprecation_wrapper.py:119] From C:\\Users\\futak\\Anaconda3\\lib\\site-packages\\keras\\backend\\tensorflow_backend.py:190: The name tf.get_default_session is deprecated. Please use tf.compat.v1.get_default_session instead.\n",
      "\n",
      "W0901 20:23:21.125279 18152 deprecation_wrapper.py:119] From C:\\Users\\futak\\Anaconda3\\lib\\site-packages\\keras\\backend\\tensorflow_backend.py:197: The name tf.ConfigProto is deprecated. Please use tf.compat.v1.ConfigProto instead.\n",
      "\n"
     ]
    },
    {
     "name": "stdout",
     "output_type": "stream",
     "text": [
      "DOC training...\n"
     ]
    },
    {
     "name": "stderr",
     "output_type": "stream",
     "text": [
      "W0901 20:23:23.544964 18152 deprecation_wrapper.py:119] From C:\\Users\\futak\\Anaconda3\\lib\\site-packages\\keras\\backend\\tensorflow_backend.py:2041: The name tf.nn.fused_batch_norm is deprecated. Please use tf.compat.v1.nn.fused_batch_norm instead.\n",
      "\n"
     ]
    },
    {
     "name": "stdout",
     "output_type": "stream",
     "text": [
      "Downloading data from https://github.com/JonathanCMitchell/mobilenet_v2_keras/releases/download/v1.1/mobilenet_v2_weights_tf_dim_ordering_tf_kernels_0.5_96.h5\n",
      "8339456/8331712 [==============================] - 2s 0us/step\n"
     ]
    },
    {
     "name": "stderr",
     "output_type": "stream",
     "text": [
      "W0901 20:23:33.381439 18152 deprecation_wrapper.py:119] From C:\\Users\\futak\\Anaconda3\\lib\\site-packages\\keras\\optimizers.py:793: The name tf.train.Optimizer is deprecated. Please use tf.compat.v1.train.Optimizer instead.\n",
      "\n",
      "W0901 20:23:33.554789 18152 deprecation.py:323] From C:\\Users\\futak\\Anaconda3\\lib\\site-packages\\tensorflow\\python\\ops\\math_grad.py:1205: add_dispatch_support.<locals>.wrapper (from tensorflow.python.ops.array_ops) is deprecated and will be removed in a future version.\n",
      "Instructions for updating:\n",
      "Use tf.where in 2.0, which has the same broadcast rule as np.where\n",
      "C:\\Users\\futak\\Anaconda3\\lib\\site-packages\\sklearn\\neighbors\\lof.py:236: FutureWarning: default contamination parameter 0.1 will change in version 0.22 to \"auto\". This will change the predict method behavior.\n",
      "  FutureWarning)\n"
     ]
    },
    {
     "name": "stdout",
     "output_type": "stream",
     "text": [
      "L2-SoftmaxLoss training...\n"
     ]
    },
    {
     "name": "stderr",
     "output_type": "stream",
     "text": [
      "C:\\Users\\futak\\Anaconda3\\lib\\site-packages\\sklearn\\neighbors\\lof.py:236: FutureWarning: default contamination parameter 0.1 will change in version 0.22 to \"auto\". This will change the predict method behavior.\n",
      "  FutureWarning)\n"
     ]
    },
    {
     "name": "stdout",
     "output_type": "stream",
     "text": [
      "ArcFace training...\n",
      "Downloading data from https://github.com/JonathanCMitchell/mobilenet_v2_keras/releases/download/v1.1/mobilenet_v2_weights_tf_dim_ordering_tf_kernels_0.5_96_no_top.h5\n",
      "3203072/3201480 [==============================] - 2s 0us/step\n"
     ]
    },
    {
     "data": {
      "image/png": "[encoded data removed]",
      "text/plain": [
       "<Figure size 432x288 with 1 Axes>"
      ]
     },
     "metadata": {
      "needs_background": "light"
     },
     "output_type": "display_data"
    },
    {
     "name": "stdout",
     "output_type": "stream",
     "text": [
      "2 /10\n",
      "DOC training...\n"
     ]
    },
    {
     "name": "stderr",
     "output_type": "stream",
     "text": [
      "C:\\Users\\futak\\Anaconda3\\lib\\site-packages\\sklearn\\neighbors\\lof.py:236: FutureWarning: default contamination parameter 0.1 will change in version 0.22 to \"auto\". This will change the predict method behavior.\n",
      "  FutureWarning)\n"
     ]
    },
    {
     "name": "stdout",
     "output_type": "stream",
     "text": [
      "L2-SoftmaxLoss training...\n"
     ]
    },
    {
     "name": "stderr",
     "output_type": "stream",
     "text": [
      "C:\\Users\\futak\\Anaconda3\\lib\\site-packages\\sklearn\\neighbors\\lof.py:236: FutureWarning: default contamination parameter 0.1 will change in version 0.22 to \"auto\". This will change the predict method behavior.\n",
      "  FutureWarning)\n"
     ]
    },
    {
     "name": "stdout",
     "output_type": "stream",
     "text": [
      "ArcFace training...\n"
     ]
    },
    {
     "data": {
      "image/png": "[encoded data removed]",
      "text/plain": [
       "<Figure size 432x288 with 1 Axes>"
      ]
     },
     "metadata": {
      "needs_background": "light"
     },
     "output_type": "display_data"
    },
    {
     "name": "stdout",
     "output_type": "stream",
     "text": [
      "3 /10\n",
      "DOC training...\n"
     ]
    },
    {
     "name": "stderr",
     "output_type": "stream",
     "text": [
      "C:\\Users\\futak\\Anaconda3\\lib\\site-packages\\sklearn\\neighbors\\lof.py:236: FutureWarning: default contamination parameter 0.1 will change in version 0.22 to \"auto\". This will change the predict method behavior.\n",
      "  FutureWarning)\n"
     ]
    },
    {
     "name": "stdout",
     "output_type": "stream",
     "text": [
      "L2-SoftmaxLoss training...\n"
     ]
    },
    {
     "name": "stderr",
     "output_type": "stream",
     "text": [
      "C:\\Users\\futak\\Anaconda3\\lib\\site-packages\\sklearn\\neighbors\\lof.py:236: FutureWarning: default contamination parameter 0.1 will change in version 0.22 to \"auto\". This will change the predict method behavior.\n",
      "  FutureWarning)\n"
     ]
    },
    {
     "name": "stdout",
     "output_type": "stream",
     "text": [
      "ArcFace training...\n"
     ]
    },
    {
     "data": {
      "image/png": "[encoded data removed]",
      "text/plain": [
       "<Figure size 432x288 with 1 Axes>"
      ]
     },
     "metadata": {
      "needs_background": "light"
     },
     "output_type": "display_data"
    },
    {
     "name": "stdout",
     "output_type": "stream",
     "text": [
      "4 /10\n",
      "DOC training...\n"
     ]
    },
    {
     "name": "stderr",
     "output_type": "stream",
     "text": [
      "C:\\Users\\futak\\Anaconda3\\lib\\site-packages\\sklearn\\neighbors\\lof.py:236: FutureWarning: default contamination parameter 0.1 will change in version 0.22 to \"auto\". This will change the predict method behavior.\n",
      "  FutureWarning)\n"
     ]
    },
    {
     "name": "stdout",
     "output_type": "stream",
     "text": [
      "L2-SoftmaxLoss training...\n"
     ]
    },
    {
     "name": "stderr",
     "output_type": "stream",
     "text": [
      "C:\\Users\\futak\\Anaconda3\\lib\\site-packages\\sklearn\\neighbors\\lof.py:236: FutureWarning: default contamination parameter 0.1 will change in version 0.22 to \"auto\". This will change the predict method behavior.\n",
      "  FutureWarning)\n"
     ]
    },
    {
     "name": "stdout",
     "output_type": "stream",
     "text": [
      "ArcFace training...\n"
     ]
    },
    {
     "data": {
      "image/png": "[encoded data removed]",
      "text/plain": [
       "<Figure size 432x288 with 1 Axes>"
      ]
     },
     "metadata": {
      "needs_background": "light"
     },
     "output_type": "display_data"
    },
    {
     "name": "stdout",
     "output_type": "stream",
     "text": [
      "5 /10\n",
      "DOC training...\n"
     ]
    },
    {
     "name": "stderr",
     "output_type": "stream",
     "text": [
      "C:\\Users\\futak\\Anaconda3\\lib\\site-packages\\sklearn\\neighbors\\lof.py:236: FutureWarning: default contamination parameter 0.1 will change in version 0.22 to \"auto\". This will change the predict method behavior.\n",
      "  FutureWarning)\n"
     ]
    },
    {
     "name": "stdout",
     "output_type": "stream",
     "text": [
      "L2-SoftmaxLoss training...\n"
     ]
    },
    {
     "ename": "ResourceExhaustedError",
     "evalue": "2 root error(s) found.\n  (0) Resource exhausted: OOM when allocating tensor with shape[128,1280,3,3] and type float on /job:localhost/replica:0/task:0/device:GPU:0 by allocator GPU_0_bfc\n\t [[{{node training_18/Adam/gradients/zeros_1}}]]\nHint: If you want to see a list of allocated tensors when OOM happens, add report_tensor_allocations_upon_oom to RunOptions for current allocation info.\n\n\t [[loss_18/mul/_39351]]\nHint: If you want to see a list of allocated tensors when OOM happens, add report_tensor_allocations_upon_oom to RunOptions for current allocation info.\n\n  (1) Resource exhausted: OOM when allocating tensor with shape[128,1280,3,3] and type float on /job:localhost/replica:0/task:0/device:GPU:0 by allocator GPU_0_bfc\n\t [[{{node training_18/Adam/gradients/zeros_1}}]]\nHint: If you want to see a list of allocated tensors when OOM happens, add report_tensor_allocations_upon_oom to RunOptions for current allocation info.\n\n0 successful operations.\n0 derived errors ignored.",
     "output_type": "error",
     "traceback": [
      "\u001b[1;31m---------------------------------------------------------------------------\u001b[0m",
      "\u001b[1;31mResourceExhaustedError\u001b[0m                    Traceback (most recent call last)",
      "\u001b[1;32m<ipython-input-6-7dc677cbeac5>\u001b[0m in \u001b[0;36m<module>\u001b[1;34m\u001b[0m\n\u001b[0;32m     12\u001b[0m     \u001b[0mnormal_label\u001b[0m \u001b[1;33m=\u001b[0m \u001b[0mnp\u001b[0m\u001b[1;33m.\u001b[0m\u001b[0mzeros\u001b[0m\u001b[1;33m(\u001b[0m\u001b[1;33m(\u001b[0m\u001b[0mlen\u001b[0m\u001b[1;33m(\u001b[0m\u001b[0mx_train_normal\u001b[0m\u001b[1;33m)\u001b[0m\u001b[1;33m,\u001b[0m \u001b[0my_ref\u001b[0m\u001b[1;33m.\u001b[0m\u001b[0mshape\u001b[0m\u001b[1;33m[\u001b[0m\u001b[1;36m1\u001b[0m\u001b[1;33m]\u001b[0m\u001b[1;33m)\u001b[0m\u001b[1;33m)\u001b[0m\u001b[1;33m\u001b[0m\u001b[1;33m\u001b[0m\u001b[0m\n\u001b[0;32m     13\u001b[0m     \u001b[0mnormal_label\u001b[0m\u001b[1;33m[\u001b[0m\u001b[1;33m:\u001b[0m\u001b[1;33m,\u001b[0m\u001b[1;36m6\u001b[0m\u001b[1;33m]\u001b[0m \u001b[1;33m=\u001b[0m \u001b[1;36m1\u001b[0m\u001b[1;33m\u001b[0m\u001b[1;33m\u001b[0m\u001b[0m\n\u001b[1;32m---> 14\u001b[1;33m     \u001b[0mmodel\u001b[0m \u001b[1;33m=\u001b[0m \u001b[0mtrain_L2\u001b[0m\u001b[1;33m(\u001b[0m\u001b[0mnp\u001b[0m\u001b[1;33m.\u001b[0m\u001b[0mvstack\u001b[0m\u001b[1;33m(\u001b[0m\u001b[1;33m(\u001b[0m\u001b[0mx_train_normal\u001b[0m\u001b[1;33m,\u001b[0m \u001b[0mx_ref\u001b[0m\u001b[1;33m)\u001b[0m\u001b[1;33m)\u001b[0m\u001b[1;33m,\u001b[0m \u001b[0mnp\u001b[0m\u001b[1;33m.\u001b[0m\u001b[0mvstack\u001b[0m\u001b[1;33m(\u001b[0m\u001b[1;33m(\u001b[0m\u001b[0mnormal_label\u001b[0m\u001b[1;33m,\u001b[0m \u001b[0my_ref\u001b[0m\u001b[1;33m)\u001b[0m\u001b[1;33m)\u001b[0m\u001b[1;33m,\u001b[0m \u001b[0my_ref\u001b[0m\u001b[1;33m.\u001b[0m\u001b[0mshape\u001b[0m\u001b[1;33m[\u001b[0m\u001b[1;36m1\u001b[0m\u001b[1;33m]\u001b[0m\u001b[1;33m)\u001b[0m\u001b[1;33m\u001b[0m\u001b[1;33m\u001b[0m\u001b[0m\n\u001b[0m\u001b[0;32m     15\u001b[0m     \u001b[1;31m#最終層削除\u001b[0m\u001b[1;33m\u001b[0m\u001b[1;33m\u001b[0m\u001b[1;33m\u001b[0m\u001b[0m\n\u001b[0;32m     16\u001b[0m     \u001b[0mmodel\u001b[0m\u001b[1;33m.\u001b[0m\u001b[0mlayers\u001b[0m\u001b[1;33m.\u001b[0m\u001b[0mpop\u001b[0m\u001b[1;33m(\u001b[0m\u001b[1;33m)\u001b[0m\u001b[1;33m\u001b[0m\u001b[1;33m\u001b[0m\u001b[0m\n",
      "\u001b[1;32m<ipython-input-5-1ded2690ea98>\u001b[0m in \u001b[0;36mtrain_L2\u001b[1;34m(x, y, classes)\u001b[0m\n\u001b[0;32m     20\u001b[0m \u001b[1;33m\u001b[0m\u001b[0m\n\u001b[0;32m     21\u001b[0m     \u001b[1;31m#学習\u001b[0m\u001b[1;33m\u001b[0m\u001b[1;33m\u001b[0m\u001b[1;33m\u001b[0m\u001b[0m\n\u001b[1;32m---> 22\u001b[1;33m     \u001b[0mhist\u001b[0m \u001b[1;33m=\u001b[0m \u001b[0mmodel\u001b[0m\u001b[1;33m.\u001b[0m\u001b[0mfit\u001b[0m\u001b[1;33m(\u001b[0m\u001b[0mx\u001b[0m\u001b[1;33m,\u001b[0m \u001b[0my\u001b[0m\u001b[1;33m,\u001b[0m \u001b[0mbatch_size\u001b[0m\u001b[1;33m=\u001b[0m\u001b[1;36m128\u001b[0m\u001b[1;33m,\u001b[0m \u001b[0mepochs\u001b[0m\u001b[1;33m=\u001b[0m\u001b[1;36m10\u001b[0m\u001b[1;33m,\u001b[0m \u001b[0mverbose\u001b[0m \u001b[1;33m=\u001b[0m \u001b[1;32mFalse\u001b[0m\u001b[1;33m)\u001b[0m\u001b[1;33m\u001b[0m\u001b[1;33m\u001b[0m\u001b[0m\n\u001b[0m\u001b[0;32m     23\u001b[0m \u001b[1;33m\u001b[0m\u001b[0m\n\u001b[0;32m     24\u001b[0m     \u001b[1;31m#plt.figure()\u001b[0m\u001b[1;33m\u001b[0m\u001b[1;33m\u001b[0m\u001b[1;33m\u001b[0m\u001b[0m\n",
      "\u001b[1;32m~\\Anaconda3\\lib\\site-packages\\keras\\engine\\training.py\u001b[0m in \u001b[0;36mfit\u001b[1;34m(self, x, y, batch_size, epochs, verbose, callbacks, validation_split, validation_data, shuffle, class_weight, sample_weight, initial_epoch, steps_per_epoch, validation_steps, validation_freq, max_queue_size, workers, use_multiprocessing, **kwargs)\u001b[0m\n\u001b[0;32m   1176\u001b[0m                                         \u001b[0msteps_per_epoch\u001b[0m\u001b[1;33m=\u001b[0m\u001b[0msteps_per_epoch\u001b[0m\u001b[1;33m,\u001b[0m\u001b[1;33m\u001b[0m\u001b[1;33m\u001b[0m\u001b[0m\n\u001b[0;32m   1177\u001b[0m                                         \u001b[0mvalidation_steps\u001b[0m\u001b[1;33m=\u001b[0m\u001b[0mvalidation_steps\u001b[0m\u001b[1;33m,\u001b[0m\u001b[1;33m\u001b[0m\u001b[1;33m\u001b[0m\u001b[0m\n\u001b[1;32m-> 1178\u001b[1;33m                                         validation_freq=validation_freq)\n\u001b[0m\u001b[0;32m   1179\u001b[0m \u001b[1;33m\u001b[0m\u001b[0m\n\u001b[0;32m   1180\u001b[0m     def evaluate(self,\n",
      "\u001b[1;32m~\\Anaconda3\\lib\\site-packages\\keras\\engine\\training_arrays.py\u001b[0m in \u001b[0;36mfit_loop\u001b[1;34m(model, fit_function, fit_inputs, out_labels, batch_size, epochs, verbose, callbacks, val_function, val_inputs, shuffle, callback_metrics, initial_epoch, steps_per_epoch, validation_steps, validation_freq)\u001b[0m\n\u001b[0;32m    202\u001b[0m                     \u001b[0mins_batch\u001b[0m\u001b[1;33m[\u001b[0m\u001b[0mi\u001b[0m\u001b[1;33m]\u001b[0m \u001b[1;33m=\u001b[0m \u001b[0mins_batch\u001b[0m\u001b[1;33m[\u001b[0m\u001b[0mi\u001b[0m\u001b[1;33m]\u001b[0m\u001b[1;33m.\u001b[0m\u001b[0mtoarray\u001b[0m\u001b[1;33m(\u001b[0m\u001b[1;33m)\u001b[0m\u001b[1;33m\u001b[0m\u001b[1;33m\u001b[0m\u001b[0m\n\u001b[0;32m    203\u001b[0m \u001b[1;33m\u001b[0m\u001b[0m\n\u001b[1;32m--> 204\u001b[1;33m                 \u001b[0mouts\u001b[0m \u001b[1;33m=\u001b[0m \u001b[0mfit_function\u001b[0m\u001b[1;33m(\u001b[0m\u001b[0mins_batch\u001b[0m\u001b[1;33m)\u001b[0m\u001b[1;33m\u001b[0m\u001b[1;33m\u001b[0m\u001b[0m\n\u001b[0m\u001b[0;32m    205\u001b[0m                 \u001b[0mouts\u001b[0m \u001b[1;33m=\u001b[0m \u001b[0mto_list\u001b[0m\u001b[1;33m(\u001b[0m\u001b[0mouts\u001b[0m\u001b[1;33m)\u001b[0m\u001b[1;33m\u001b[0m\u001b[1;33m\u001b[0m\u001b[0m\n\u001b[0;32m    206\u001b[0m                 \u001b[1;32mfor\u001b[0m \u001b[0ml\u001b[0m\u001b[1;33m,\u001b[0m \u001b[0mo\u001b[0m \u001b[1;32min\u001b[0m \u001b[0mzip\u001b[0m\u001b[1;33m(\u001b[0m\u001b[0mout_labels\u001b[0m\u001b[1;33m,\u001b[0m \u001b[0mouts\u001b[0m\u001b[1;33m)\u001b[0m\u001b[1;33m:\u001b[0m\u001b[1;33m\u001b[0m\u001b[1;33m\u001b[0m\u001b[0m\n",
      "\u001b[1;32m~\\Anaconda3\\lib\\site-packages\\keras\\backend\\tensorflow_backend.py\u001b[0m in \u001b[0;36m__call__\u001b[1;34m(self, inputs)\u001b[0m\n\u001b[0;32m   2977\u001b[0m                     \u001b[1;32mreturn\u001b[0m \u001b[0mself\u001b[0m\u001b[1;33m.\u001b[0m\u001b[0m_legacy_call\u001b[0m\u001b[1;33m(\u001b[0m\u001b[0minputs\u001b[0m\u001b[1;33m)\u001b[0m\u001b[1;33m\u001b[0m\u001b[1;33m\u001b[0m\u001b[0m\n\u001b[0;32m   2978\u001b[0m \u001b[1;33m\u001b[0m\u001b[0m\n\u001b[1;32m-> 2979\u001b[1;33m             \u001b[1;32mreturn\u001b[0m \u001b[0mself\u001b[0m\u001b[1;33m.\u001b[0m\u001b[0m_call\u001b[0m\u001b[1;33m(\u001b[0m\u001b[0minputs\u001b[0m\u001b[1;33m)\u001b[0m\u001b[1;33m\u001b[0m\u001b[1;33m\u001b[0m\u001b[0m\n\u001b[0m\u001b[0;32m   2980\u001b[0m         \u001b[1;32melse\u001b[0m\u001b[1;33m:\u001b[0m\u001b[1;33m\u001b[0m\u001b[1;33m\u001b[0m\u001b[0m\n\u001b[0;32m   2981\u001b[0m             \u001b[1;32mif\u001b[0m \u001b[0mpy_any\u001b[0m\u001b[1;33m(\u001b[0m\u001b[0mis_tensor\u001b[0m\u001b[1;33m(\u001b[0m\u001b[0mx\u001b[0m\u001b[1;33m)\u001b[0m \u001b[1;32mfor\u001b[0m \u001b[0mx\u001b[0m \u001b[1;32min\u001b[0m \u001b[0minputs\u001b[0m\u001b[1;33m)\u001b[0m\u001b[1;33m:\u001b[0m\u001b[1;33m\u001b[0m\u001b[1;33m\u001b[0m\u001b[0m\n",
      "\u001b[1;32m~\\Anaconda3\\lib\\site-packages\\keras\\backend\\tensorflow_backend.py\u001b[0m in \u001b[0;36m_call\u001b[1;34m(self, inputs)\u001b[0m\n\u001b[0;32m   2935\u001b[0m             \u001b[0mfetched\u001b[0m \u001b[1;33m=\u001b[0m \u001b[0mself\u001b[0m\u001b[1;33m.\u001b[0m\u001b[0m_callable_fn\u001b[0m\u001b[1;33m(\u001b[0m\u001b[1;33m*\u001b[0m\u001b[0marray_vals\u001b[0m\u001b[1;33m,\u001b[0m \u001b[0mrun_metadata\u001b[0m\u001b[1;33m=\u001b[0m\u001b[0mself\u001b[0m\u001b[1;33m.\u001b[0m\u001b[0mrun_metadata\u001b[0m\u001b[1;33m)\u001b[0m\u001b[1;33m\u001b[0m\u001b[1;33m\u001b[0m\u001b[0m\n\u001b[0;32m   2936\u001b[0m         \u001b[1;32melse\u001b[0m\u001b[1;33m:\u001b[0m\u001b[1;33m\u001b[0m\u001b[1;33m\u001b[0m\u001b[0m\n\u001b[1;32m-> 2937\u001b[1;33m             \u001b[0mfetched\u001b[0m \u001b[1;33m=\u001b[0m \u001b[0mself\u001b[0m\u001b[1;33m.\u001b[0m\u001b[0m_callable_fn\u001b[0m\u001b[1;33m(\u001b[0m\u001b[1;33m*\u001b[0m\u001b[0marray_vals\u001b[0m\u001b[1;33m)\u001b[0m\u001b[1;33m\u001b[0m\u001b[1;33m\u001b[0m\u001b[0m\n\u001b[0m\u001b[0;32m   2938\u001b[0m         \u001b[1;32mreturn\u001b[0m \u001b[0mfetched\u001b[0m\u001b[1;33m[\u001b[0m\u001b[1;33m:\u001b[0m\u001b[0mlen\u001b[0m\u001b[1;33m(\u001b[0m\u001b[0mself\u001b[0m\u001b[1;33m.\u001b[0m\u001b[0moutputs\u001b[0m\u001b[1;33m)\u001b[0m\u001b[1;33m]\u001b[0m\u001b[1;33m\u001b[0m\u001b[1;33m\u001b[0m\u001b[0m\n\u001b[0;32m   2939\u001b[0m \u001b[1;33m\u001b[0m\u001b[0m\n",
      "\u001b[1;32m~\\Anaconda3\\lib\\site-packages\\tensorflow\\python\\client\\session.py\u001b[0m in \u001b[0;36m__call__\u001b[1;34m(self, *args, **kwargs)\u001b[0m\n\u001b[0;32m   1456\u001b[0m         ret = tf_session.TF_SessionRunCallable(self._session._session,\n\u001b[0;32m   1457\u001b[0m                                                \u001b[0mself\u001b[0m\u001b[1;33m.\u001b[0m\u001b[0m_handle\u001b[0m\u001b[1;33m,\u001b[0m \u001b[0margs\u001b[0m\u001b[1;33m,\u001b[0m\u001b[1;33m\u001b[0m\u001b[1;33m\u001b[0m\u001b[0m\n\u001b[1;32m-> 1458\u001b[1;33m                                                run_metadata_ptr)\n\u001b[0m\u001b[0;32m   1459\u001b[0m         \u001b[1;32mif\u001b[0m \u001b[0mrun_metadata\u001b[0m\u001b[1;33m:\u001b[0m\u001b[1;33m\u001b[0m\u001b[1;33m\u001b[0m\u001b[0m\n\u001b[0;32m   1460\u001b[0m           \u001b[0mproto_data\u001b[0m \u001b[1;33m=\u001b[0m \u001b[0mtf_session\u001b[0m\u001b[1;33m.\u001b[0m\u001b[0mTF_GetBuffer\u001b[0m\u001b[1;33m(\u001b[0m\u001b[0mrun_metadata_ptr\u001b[0m\u001b[1;33m)\u001b[0m\u001b[1;33m\u001b[0m\u001b[1;33m\u001b[0m\u001b[0m\n",
      "\u001b[1;31mResourceExhaustedError\u001b[0m: 2 root error(s) found.\n  (0) Resource exhausted: OOM when allocating tensor with shape[128,1280,3,3] and type float on /job:localhost/replica:0/task:0/device:GPU:0 by allocator GPU_0_bfc\n\t [[{{node training_18/Adam/gradients/zeros_1}}]]\nHint: If you want to see a list of allocated tensors when OOM happens, add report_tensor_allocations_upon_oom to RunOptions for current allocation info.\n\n\t [[loss_18/mul/_39351]]\nHint: If you want to see a list of allocated tensors when OOM happens, add report_tensor_allocations_upon_oom to RunOptions for current allocation info.\n\n  (1) Resource exhausted: OOM when allocating tensor with shape[128,1280,3,3] and type float on /job:localhost/replica:0/task:0/device:GPU:0 by allocator GPU_0_bfc\n\t [[{{node training_18/Adam/gradients/zeros_1}}]]\nHint: If you want to see a list of allocated tensors when OOM happens, add report_tensor_allocations_upon_oom to RunOptions for current allocation info.\n\n0 successful operations.\n0 derived errors ignored."
     ]
    }
   ],
   "source": [
    "DATA = data(8000)\n",
    "\n",
    "for i in range(10):\n",
    "    print(i+1,\"/10\")\n",
    "    x_train_normal, x_ref, y_ref, x_test_normal, x_test_anomaly = DATA.get_fashion_data()\n",
    "\n",
    "    #DOC\n",
    "    model = train_doc(x_train_normal, x_ref, y_ref, 5, 9)\n",
    "    Z1_doc, Z2_doc = get_score_doc(model, x_train_normal, x_test_normal, x_test_anomaly)\n",
    "\n",
    "    #L2-SoftmaxLoss\n",
    "    normal_label = np.zeros((len(x_train_normal), y_ref.shape[1]))\n",
    "    normal_label[:,6] = 1\n",
    "    model = train_L2(np.vstack((x_train_normal, x_ref)), np.vstack((normal_label, y_ref)), y_ref.shape[1])\n",
    "    #最終層削除\n",
    "    model.layers.pop()\n",
    "    model = Model(inputs=model.input,outputs=model.layers[-1].output)\n",
    "    Z1_L2, Z2_L2 = get_score_doc(model, x_train_normal, x_test_normal, x_test_anomaly)\n",
    "\n",
    "    #ArcFace\n",
    "    model = train_arcface(np.vstack((x_train_normal, x_ref)), np.vstack((normal_label, y_ref)), y_ref.shape[1])\n",
    "    # 異常スコアの算出（異常が高いほど、スコアが高くなるように符号反転）\n",
    "    Z1_arc = -get_score_arc(model, x_train_normal, x_test_normal)\n",
    "    Z2_arc = -get_score_arc(model, x_train_normal, x_test_anomaly)\n",
    "\n",
    "    #auc\n",
    "    auc(Z1_arc, Z2_arc, Z1_doc, Z2_doc, Z1_L2, Z2_L2)"
   ]
  },
  {
   "cell_type": "markdown",
   "metadata": {
    "colab_type": "text",
    "id": "mtsRheZ3d80V"
   },
   "source": [
    "#Evaluate(cifar-10)"
   ]
  },
  {
   "cell_type": "code",
   "execution_count": null,
   "metadata": {
    "colab": {},
    "colab_type": "code",
    "id": "78RlBdIH2Uji"
   },
   "outputs": [],
   "source": [
    "DATA = data(8000)\n",
    "\n",
    "for i in range(10):\n",
    "    print(i+1,\"/10\")\n",
    "    x_train_normal, x_ref, y_ref, x_test_normal, x_test_anomaly = DATA.get_cifar_data()\n",
    "\n",
    "    #DOC\n",
    "    model = train_doc(x_train_normal, x_ref, y_ref, 5, 10)\n",
    "    Z1_doc, Z2_doc = get_score_doc(model, x_train_normal, x_test_normal, x_test_anomaly)\n",
    "\n",
    "    #L2-SoftmaxLoss\n",
    "    normal_label = np.zeros((len(x_train_normal), y_ref.shape[1]))\n",
    "    normal_label[:,3] = 1\n",
    "    model = train_L2(np.vstack((x_train_normal, x_ref)), np.vstack((normal_label, y_ref)), y_ref.shape[1])\n",
    "    #最終層削除\n",
    "    model.layers.pop()\n",
    "    model = Model(inputs=model.input,outputs=model.layers[-1].output)\n",
    "    Z1_L2, Z2_L2 = get_score_doc(model, x_train_normal, x_test_normal, x_test_anomaly)\n",
    "\n",
    "    #ArcFace\n",
    "    model = train_arcface(np.vstack((x_train_normal, x_ref)), np.vstack((normal_label, y_ref)), y_ref.shape[1])\n",
    "    # 異常スコアの算出（異常が高いほど、スコアが高くなるように符号反転）\n",
    "    Z1_arc = -get_score_arc(model, x_train_normal, x_test_normal)\n",
    "    Z2_arc = -get_score_arc(model, x_train_normal, x_test_anomaly)\n",
    "\n",
    "    #auc\n",
    "    auc(Z1_arc, Z2_arc, Z1_doc, Z2_doc, Z1_L2, Z2_L2)"
   ]
  },
  {
   "cell_type": "markdown",
   "metadata": {
    "colab_type": "text",
    "id": "riE09NikkmBi"
   },
   "source": [
    "# graph"
   ]
  },
  {
   "cell_type": "code",
   "execution_count": 0,
   "metadata": {
    "colab": {
     "base_uri": "https://localhost:8080/",
     "height": 645
    },
    "colab_type": "code",
    "executionInfo": {
     "elapsed": 2228,
     "status": "ok",
     "timestamp": 1565062192706,
     "user": {
      "displayName": "Rubu Kuma",
      "photoUrl": "",
      "userId": "02985854947085672136"
     },
     "user_tz": -540
    },
    "id": "wfD04Ndpkn6T",
    "outputId": "4b29cdad-fbbe-45e8-b83a-2cf8cab931d4"
   },
   "outputs": [
    {
     "data": {
      "image/png": "[encoded data removed]",
      "text/plain": [
       "<Figure size 432x288 with 1 Axes>"
      ]
     },
     "metadata": {
      "tags": []
     },
     "output_type": "display_data"
    },
    {
     "data": {
      "image/png": "[encoded data removed]",
      "text/plain": [
       "<Figure size 432x288 with 1 Axes>"
      ]
     },
     "metadata": {
      "tags": []
     },
     "output_type": "display_data"
    }
   ],
   "source": [
    "import seaborn as sns\n",
    "\n",
    "x = [[0.98, 0.98, 0.97, 0.99, 0.97, 0.98, 0.98, 0.95, 0.95, 0.97],\n",
    "     [0.93, 0.94, 0.94, 0.92, 0.94, 0.95, 0.94, 0.91, 0.95, 0.92],\n",
    "     [0.86, 0.89, 0.85, 0.89, 0.87, 0.88, 0.88, 0.88, 0.88, 0.87]]\n",
    "\n",
    "sns.set_context(\"notebook\",font_scale=2)\n",
    "sns.boxplot(x=[x[0],x[1],x[2]], y=[\"L2-SoftmaxLoss\",\"ArcFace\",\"DOC\"])\n",
    "plt.title(\"AUC\\n(Fashion MNIST - sneaker vs boots)\")\n",
    "plt.xlim(0.84,1)\n",
    "plt.show()\n",
    "\n",
    "x = [[0.84, 0.87, 0.88, 0.88, 0.91, 0.9, 0.92, 0.86, 0.89, 0.89],\n",
    "     [0.77, 0.8, 0.83, 0.83, 0.8, 0.82, 0.83, 0.81, 0.76, 0.8],\n",
    "     [0.7, 0.69, 0.72, 0.72, 0.71, 0.71, 0.71, 0.73, 0.72, 0.68]]\n",
    "\n",
    "sns.set_context(\"notebook\",font_scale=2)\n",
    "sns.boxplot(x=[x[0],x[1],x[2]], y=[\"L2-SoftmaxLoss\",\"ArcFace\",\"DOC\"])\n",
    "plt.title(\"AUC\\n(cifar-10 - deer vs horse)\")\n",
    "#plt.xlim(0.75,1)\n",
    "plt.show()"
   ]
  }
 ],
 "metadata": {
  "accelerator": "GPU",
  "colab": {
   "collapsed_sections": [
    "nM8AuzWISNMF",
    "qe0lpAYgWlX_",
    "LCtjqzw7IDPj",
    "Rp2Qy8HiaHA7",
    "JNykUdWO0K1L"
   ],
   "name": "異常検知ベンチマーク.ipynb",
   "provenance": [],
   "version": "0.3.2"
  },
  "kernelspec": {
   "display_name": "Python 3",
   "language": "python",
   "name": "python3"
  },
  "language_info": {
   "codemirror_mode": {
    "name": "ipython",
    "version": 3
   },
   "file_extension": ".py",
   "mimetype": "text/x-python",
   "name": "python",
   "nbconvert_exporter": "python",
   "pygments_lexer": "ipython3",
   "version": "3.7.3"
  }
 },
 "nbformat": 4,
 "nbformat_minor": 1
}
